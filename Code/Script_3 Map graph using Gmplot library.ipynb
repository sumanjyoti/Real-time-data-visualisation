{
 "cells": [
  {
   "cell_type": "code",
   "execution_count": 1,
   "metadata": {
    "collapsed": false
   },
   "outputs": [],
   "source": [
    "# Heatmap\n",
    "\n",
    "import gmplot\n",
    "\n",
    "#gmap = gmplot.GoogleMapPlotter(37.428, -122.145, 16)\n",
    "\n",
    "#gmap.plot(latitudes, longitudes, 'cornflowerblue', edge_width=10)\n",
    "#gmap.scatter(more_lats, more_lngs, '#3B0B39', size=40, marker=False)\n",
    "#gmap.scatter(marker_lats, marker_lngs, 'k', marker=True)\n",
    "#gmap.heatmap(heat_lats, heat_lngs)\n",
    "\n",
    "#gmap.draw(\"mymap.html\")\n",
    "#gmap = gmplot.GoogleMapPlotter(\"Ireland\")"
   ]
  },
  {
   "cell_type": "code",
   "execution_count": 2,
   "metadata": {
    "collapsed": false
   },
   "outputs": [],
   "source": [
    "# from -5 to 11\n",
    "\n",
    "def get_color(temp = 4.0):\n",
    "    if temp < -5.0:\n",
    "        color = '#f7fbff'\n",
    "    elif (temp < 0.0):\n",
    "        color = '#ccebc5'\n",
    "    elif temp < 1.0:\n",
    "        color = '#a8ddb5'\n",
    "    elif temp < 2.0:\n",
    "        color = '#7bccc4'\n",
    "    elif temp < 3.0:\n",
    "        color = '#4eb3d3'\n",
    "    elif temp < 4.0:\n",
    "        color = '#2b8cbe'\n",
    "    elif temp < 5.0:\n",
    "        color = '#0868ac'\n",
    "    else:\n",
    "        color = '#084081'\n",
    "    return color\n",
    "#get_color()\n",
    "#ccebc5\n",
    "#a8ddb5\n",
    "#7bccc4\n",
    "#4eb3d3\n",
    "#2b8cbe\n",
    "#0868ac\n",
    "#084081\n",
    "\n"
   ]
  },
  {
   "cell_type": "code",
   "execution_count": 3,
   "metadata": {
    "collapsed": false
   },
   "outputs": [],
   "source": [
    "import json\n",
    "#open('Ireland.json')\n",
    "with open('Ireland.json', 'r') as f:\n",
    "    datastore = json.load(f)\n",
    "    \n",
    "import pandas as pd\n",
    "def get_recent_data(file = 'Temprature'):\n",
    "    df = pd.read_csv(file+'.csv')\n",
    "    return df.tail(1)\n",
    "recent_data = get_recent_data()\n",
    "#recent_data\n",
    "#print(recent_data['Waterford'].values[0])\n",
    "#get_color(recent_data['Waterford'].values[0])"
   ]
  },
  {
   "cell_type": "code",
   "execution_count": 4,
   "metadata": {
    "collapsed": false
   },
   "outputs": [],
   "source": [
    "var_1 = 0\n",
    "var_2 = 0\n",
    "    #hash\n",
    "map_arr = []\n",
    "datastore_features = datastore['features']\n",
    "for var_1 in datastore_features:\n",
    "    lats_for_one_city = []\n",
    "    lons_for_one_city = []\n",
    "    map_city = var_1['id']\n",
    "    #print(recent_data[map_city])\n",
    "    color = get_color(recent_data[map_city].values[0])\n",
    "    temp = recent_data[map_city].values[0]\n",
    "    cords = var_1['geometry']['coordinates'][0]\n",
    "    for var_2 in cords:\n",
    "        lats_for_one_city.append(var_2[1])\n",
    "        lons_for_one_city.append(var_2[0])\n",
    "    #print(lats_for_one_city)\n",
    "    map_arr.append([map_city,lats_for_one_city,lons_for_one_city,color,temp])"
   ]
  },
  {
   "cell_type": "code",
   "execution_count": 5,
   "metadata": {
    "collapsed": false
   },
   "outputs": [],
   "source": [
    "import gmplot\n",
    "#map_arr = [['Dublin',[52.708085,52.924335,52.633128],[-6.592415,-6.712332,-6.71789]],\n",
    "#            ['Cork',[52.708085,52.924335,52.633128],[-6.592415,-6.712332,-6.71789]],\n",
    "#            ['ABC',[52.708085,52.924335,52.633128],[-6.592415,-6.712332,-6.71789]]\n",
    "#           ]\n",
    "# for cods in map_arr:\n",
    "#     print(cods)\n",
    "\n",
    "\n",
    "def make_map(map_arr):\n",
    "    gmap = gmplot.GoogleMapPlotter(52.708085, -6.592415, 6)\n",
    "#lats = heat_lats = marker_lats = more_lats = latitudes = [52.708085,52.924335,52.633128]\n",
    "#lngs = heat_lngs = marker_lngs = more_lngs = longitudes = [-6.592415,-6.712332,-6.71789]\n",
    "    for cods in map_arr:\n",
    "        lats = heat_lats = marker_lats = more_lats = latitudes = cods[1]\n",
    "        lngs = heat_lngs = marker_lngs = more_lngs = longitudes = cods[2]\n",
    "        #gmap.plot(latitudes, longitudes, 'cornflowerblue', edge_width=10)\n",
    "        #gmap.scatter(more_lats, more_lngs, '#3B0B39', size=40, marker=False)\n",
    "        #gmap.scatter(marker_lats, marker_lngs, 'k', marker=True)\n",
    "        #gmap.heatmap(heat_lats, heat_lngs)\n",
    "        gmap.polygon(lats, lngs, color = cods[3], c=cods[3],facecolor= cods[3],clickable=True,title = 'Temprature')\n",
    "        #gmap.marker(lats[1], lngs[1], title= cods[4])\n",
    "    gmap.draw(\"mymap.html\")\n",
    "\n",
    "make_map(map_arr)\n"
   ]
  }
 ],
 "metadata": {
  "kernelspec": {
   "display_name": "Python 3",
   "language": "python",
   "name": "python3"
  },
  "language_info": {
   "codemirror_mode": {
    "name": "ipython",
    "version": 3
   },
   "file_extension": ".py",
   "mimetype": "text/x-python",
   "name": "python",
   "nbconvert_exporter": "python",
   "pygments_lexer": "ipython3",
   "version": "3.6.0"
  }
 },
 "nbformat": 4,
 "nbformat_minor": 2
}
