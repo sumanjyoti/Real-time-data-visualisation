{
 "cells": [
  {
   "cell_type": "code",
   "execution_count": 1,
   "metadata": {
    "collapsed": true
   },
   "outputs": [],
   "source": [
    "import requests as req\n",
    "import pytemperature\n",
    "import time\n",
    "APP_ID = 'get your api_key  from https://home.openweathermap.org/'"
   ]
  },
  {
   "cell_type": "code",
   "execution_count": 2,
   "metadata": {
    "collapsed": false
   },
   "outputs": [],
   "source": [
    "#########################################################################################################################\n",
    "##One Timer\n",
    "# Importing csv file \n",
    "import pandas as pd\n",
    "import numpy as np\n",
    "\n",
    "df = pd.read_csv('ie-towns-sample.csv',header = None)\n",
    "\n",
    "## Data Cleaning \n",
    "city_lat_lon_refined = []\n",
    "cities = []\n",
    "for index, row in df.iterrows():\n",
    "    if row[3] not in cities:\n",
    "        cities.append(row[3])\n",
    "        city_lat_lon_refined.append([row[3],row[9],row[10]])"
   ]
  },
  {
   "cell_type": "code",
   "execution_count": 4,
   "metadata": {
    "collapsed": false
   },
   "outputs": [
    {
     "data": {
      "text/plain": [
       "{'base': 'stations',\n",
       " 'clouds': {'all': 56},\n",
       " 'cod': 200,\n",
       " 'coord': {'lat': 2, 'lon': 3},\n",
       " 'dt': 1511639861,\n",
       " 'id': 0,\n",
       " 'main': {'grnd_level': 1026.73,\n",
       "  'humidity': 100,\n",
       "  'pressure': 1026.73,\n",
       "  'sea_level': 1026.76,\n",
       "  'temp': 299.786,\n",
       "  'temp_max': 299.786,\n",
       "  'temp_min': 299.786},\n",
       " 'name': '',\n",
       " 'rain': {'3h': 1.62},\n",
       " 'sys': {'message': 0.0023, 'sunrise': 1511588082, 'sunset': 1511631352},\n",
       " 'weather': [{'description': 'light rain',\n",
       "   'icon': '10n',\n",
       "   'id': 500,\n",
       "   'main': 'Rain'}],\n",
       " 'wind': {'deg': 269.503, 'speed': 2.08}}"
      ]
     },
     "execution_count": 4,
     "metadata": {},
     "output_type": "execute_result"
    }
   ],
   "source": [
    "#########################################################################################################################\n",
    "# api call for data \n",
    "def api_call(lat='0',lon ='0'):\n",
    "    url = \"http://api.openweathermap.org/data/2.5/weather?lat=\"+lat+\"&lon=\"+lon+\"&appid=\"+APP_ID\n",
    "    url_data = req.get(url)\n",
    "    return url_data.json()\n",
    "\n",
    "data = api_call('2','3')\n",
    "#temp_kelvin = data['main']['temp']\n",
    "#temp_cel = pytemperature.k2c(temp_kelvin)\n",
    "#pressure = data['main']['pressure']\n",
    "#humidity = data['main']['humidity']\n",
    "#wind_speed = data['wind']['speed']\n",
    "#print(temp_cel,pressure,rain,wind_speed)\n",
    "data\n"
   ]
  },
  {
   "cell_type": "code",
   "execution_count": 4,
   "metadata": {
    "collapsed": false
   },
   "outputs": [],
   "source": [
    "def getting_data(lat='0',lon ='0'):\n",
    "    data = api_call(lat,lon)\n",
    "    temp_kelvin = data['main']['temp']\n",
    "    temp_cel = pytemperature.k2c(temp_kelvin)\n",
    "    pressure = data['main']['pressure']\n",
    "    humidity = data['main']['humidity']\n",
    "    wind_speed = data['wind']['speed']\n",
    "    return temp_cel,pressure,humidity,wind_speed\n",
    "#getting_data('4','7')"
   ]
  },
  {
   "cell_type": "code",
   "execution_count": 5,
   "metadata": {
    "collapsed": false
   },
   "outputs": [
    {
     "name": "stdout",
     "output_type": "stream",
     "text": [
      "([['Waterford', 52.01916, -7.82345, 1.0], ['Galway', 53.25816999999999, -8.58564, 3.0], ['Donegal', 54.68795, -8.157760000000001, 5.391999999999996], ['Tipperary', 53.08619, -8.06461, -0.3079999999999927], ['Cork', 51.676590000000004, -9.4767, 6.217000000000041], ['Limerick', 52.318870000000004, -8.45913, 2.0], ['Longford', 53.734880000000004, -7.7986699999999995, 2.7420000000000186], ['Roscommon', 53.846869999999996, -8.18743, 3.2170000000000414], ['Kerry', 52.34661, -9.68791, 3.0], ['Wexford', 52.69197, -6.62453, 0.0], ['Clare', 53.13463, -9.04522, 3.0], ['Kilkenny', 52.625730000000004, -7.14942, -1.20799999999997], ['Mayo', 54.11395, -9.14431, 4.067000000000007], ['Cavan', 53.99098000000001, -7.361260000000001, 1.9420000000000073], ['Kildare', 52.901140000000005, -6.84169, 0.0], ['Meath', 53.659580000000005, -6.6981399999999995, 0.0], ['Westmeath', 53.62858000000001, -7.39792, 0.49200000000001864], ['Wicklow', 52.79363000000001, -6.15838, 0.0], ['Laois', 52.91528, -7.3479, -1.20799999999997], ['Sligo', 54.26981, -8.47078, 3.2170000000000414], ['Dublin', 53.428940000000004, -6.18436, 0.0], ['Offaly', 53.312290000000004, -7.49188, 0.0], ['Louth', 54.008030000000005, -6.443569999999999, 0.0], ['Carlow', 52.8462, -6.6646399999999995, 0.0], ['Leitrim', 53.970040000000004, -7.73957, 2.7420000000000186], ['Monaghan', 54.11597, -6.9078100000000004, 1.9420000000000073]], [['Waterford', 52.01916, -7.82345, 1016], ['Galway', 53.25816999999999, -8.58564, 1017], ['Donegal', 54.68795, -8.157760000000001, 1014.5], ['Tipperary', 53.08619, -8.06461, 1012.06], ['Cork', 51.676590000000004, -9.4767, 1023.17], ['Limerick', 52.318870000000004, -8.45913, 1016], ['Longford', 53.734880000000004, -7.7986699999999995, 1013.2], ['Roscommon', 53.846869999999996, -8.18743, 1014.82], ['Kerry', 52.34661, -9.68791, 1017], ['Wexford', 52.69197, -6.62453, 1014], ['Clare', 53.13463, -9.04522, 1017], ['Kilkenny', 52.625730000000004, -7.14942, 1012.79], ['Mayo', 54.11395, -9.14431, 1017.5], ['Cavan', 53.99098000000001, -7.361260000000001, 1011.82], ['Kildare', 52.901140000000005, -6.84169, 1013], ['Meath', 53.659580000000005, -6.6981399999999995, 1013], ['Westmeath', 53.62858000000001, -7.39792, 1014.98], ['Wicklow', 52.79363000000001, -6.15838, 1013], ['Laois', 52.91528, -7.3479, 1012.79], ['Sligo', 54.26981, -8.47078, 1014.82], ['Dublin', 53.428940000000004, -6.18436, 1013], ['Offaly', 53.312290000000004, -7.49188, 1014], ['Louth', 54.008030000000005, -6.443569999999999, 1013], ['Carlow', 52.8462, -6.6646399999999995, 1013], ['Leitrim', 53.970040000000004, -7.73957, 1013.2], ['Monaghan', 54.11597, -6.9078100000000004, 1011.82]], [['Waterford', 52.01916, -7.82345, 98], ['Galway', 53.25816999999999, -8.58564, 86], ['Donegal', 54.68795, -8.157760000000001, 100], ['Tipperary', 53.08619, -8.06461, 87], ['Cork', 51.676590000000004, -9.4767, 100], ['Limerick', 52.318870000000004, -8.45913, 94], ['Longford', 53.734880000000004, -7.7986699999999995, 100], ['Roscommon', 53.846869999999996, -8.18743, 100], ['Kerry', 52.34661, -9.68791, 86], ['Wexford', 52.69197, -6.62453, 97], ['Clare', 53.13463, -9.04522, 86], ['Kilkenny', 52.625730000000004, -7.14942, 84], ['Mayo', 54.11395, -9.14431, 99], ['Cavan', 53.99098000000001, -7.361260000000001, 100], ['Kildare', 52.901140000000005, -6.84169, 97], ['Meath', 53.659580000000005, -6.6981399999999995, 100], ['Westmeath', 53.62858000000001, -7.39792, 92], ['Wicklow', 52.79363000000001, -6.15838, 100], ['Laois', 52.91528, -7.3479, 84], ['Sligo', 54.26981, -8.47078, 100], ['Dublin', 53.428940000000004, -6.18436, 100], ['Offaly', 53.312290000000004, -7.49188, 92], ['Louth', 54.008030000000005, -6.443569999999999, 100], ['Carlow', 52.8462, -6.6646399999999995, 97], ['Leitrim', 53.970040000000004, -7.73957, 100], ['Monaghan', 54.11597, -6.9078100000000004, 100]], [['Waterford', 52.01916, -7.82345, 6.7], ['Galway', 53.25816999999999, -8.58564, 8.2], ['Donegal', 54.68795, -8.157760000000001, 7.97], ['Tipperary', 53.08619, -8.06461, 4.57], ['Cork', 51.676590000000004, -9.4767, 7.72], ['Limerick', 52.318870000000004, -8.45913, 6.7], ['Longford', 53.734880000000004, -7.7986699999999995, 5.22], ['Roscommon', 53.846869999999996, -8.18743, 5.67], ['Kerry', 52.34661, -9.68791, 8.2], ['Wexford', 52.69197, -6.62453, 5.7], ['Clare', 53.13463, -9.04522, 8.2], ['Kilkenny', 52.625730000000004, -7.14942, 4.82], ['Mayo', 54.11395, -9.14431, 6.17], ['Cavan', 53.99098000000001, -7.361260000000001, 5.92], ['Kildare', 52.901140000000005, -6.84169, 8.2], ['Meath', 53.659580000000005, -6.6981399999999995, 8.2], ['Westmeath', 53.62858000000001, -7.39792, 6.62], ['Wicklow', 52.79363000000001, -6.15838, 8.2], ['Laois', 52.91528, -7.3479, 4.82], ['Sligo', 54.26981, -8.47078, 5.67], ['Dublin', 53.428940000000004, -6.18436, 8.2], ['Offaly', 53.312290000000004, -7.49188, 5.7], ['Louth', 54.008030000000005, -6.443569999999999, 8.2], ['Carlow', 52.8462, -6.6646399999999995, 8.2], ['Leitrim', 53.970040000000004, -7.73957, 5.22], ['Monaghan', 54.11597, -6.9078100000000004, 5.92]])\n"
     ]
    }
   ],
   "source": [
    "#########################################################################################################################\n",
    "# Api calls for multiple cities\n",
    "def getting_info_for_one_time():\n",
    "    inform_temp = []\n",
    "    inform_pressure = []\n",
    "    inform_humidity = []\n",
    "    inform_wind_speed = []\n",
    "    for city in city_lat_lon_refined:\n",
    "        #print(data[1],data[2])\n",
    "        lat = str(city[1])\n",
    "        lon = str(city[2])\n",
    "        temp,pressure,humidity,wind_speed = getting_data(lat,lon)\n",
    "        inform_temp.append([city[0],city[1],city[2],temp])\n",
    "        inform_pressure.append([city[0],city[1],city[2],pressure])\n",
    "        inform_humidity.append([city[0],city[1],city[2],humidity])\n",
    "        inform_wind_speed.append([city[0],city[1],city[2],wind_speed])\n",
    "    return inform_temp,inform_pressure,inform_humidity,inform_wind_speed\n",
    "#print(inform)\n",
    "print(getting_info_for_one_time())"
   ]
  },
  {
   "cell_type": "code",
   "execution_count": null,
   "metadata": {
    "collapsed": false
   },
   "outputs": [],
   "source": [
    "#########################################################################################################################\n",
    "# appending data in CSV\n",
    "import csv   \n",
    "def append_info_in_csv(inform = [],file_name = 'Temprature.csv'):\n",
    "    fields = []\n",
    "    fields = [time.strftime(\"%Y-%m-%d %H:%M:%S\", time.gmtime())]\n",
    "    for info_row in inform:\n",
    "        fields.append(info_row[3])\n",
    "    with open(file_name, 'a') as f:\n",
    "        writer = csv.writer(f)\n",
    "        writer.writerow(fields)\n",
    "\n",
    "#append_info_in_csv()\n",
    "#making_fields"
   ]
  },
  {
   "cell_type": "code",
   "execution_count": null,
   "metadata": {
    "collapsed": false
   },
   "outputs": [],
   "source": [
    "#########################################################################################################################\n",
    "# Collecting Data hourly\n",
    "while True:\n",
    "    #inform_temp,inform_pressure,inform_humidity,inform_wind_speed\n",
    "    inform_temp,inform_pressure,inform_humidity,inform_wind_speed = getting_info_for_one_time()\n",
    "    append_info_in_csv(inform_temp,'Temprature.csv')\n",
    "    append_info_in_csv(inform_pressure,'Pressure.csv')\n",
    "    append_info_in_csv(inform_humidity,'Humidity.csv')\n",
    "    append_info_in_csv(inform_wind_speed,'Wind_Speed.csv')\n",
    "    time.sleep(60)"
   ]
  },
  {
   "cell_type": "code",
   "execution_count": null,
   "metadata": {
    "collapsed": false
   },
   "outputs": [],
   "source": []
  },
  {
   "cell_type": "code",
   "execution_count": null,
   "metadata": {
    "collapsed": true
   },
   "outputs": [],
   "source": []
  }
 ],
 "metadata": {
  "kernelspec": {
   "display_name": "Python 3",
   "language": "python",
   "name": "python3"
  },
  "language_info": {
   "codemirror_mode": {
    "name": "ipython",
    "version": 3
   },
   "file_extension": ".py",
   "mimetype": "text/x-python",
   "name": "python",
   "nbconvert_exporter": "python",
   "pygments_lexer": "ipython3",
   "version": "3.6.0"
  }
 },
 "nbformat": 4,
 "nbformat_minor": 2
}
